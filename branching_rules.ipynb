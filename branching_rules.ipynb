{
 "cells": [
  {
   "cell_type": "code",
   "execution_count": 1,
   "metadata": {},
   "outputs": [],
   "source": [
    "R = QQ['q'].fraction_field()\n",
    "q = R.gen()\n",
    "NCSym = SymmetricFunctionsNonCommutingVariables(R)\n",
    "chi = NCSym.chi(q)"
   ]
  },
  {
   "cell_type": "code",
   "execution_count": 2,
   "metadata": {},
   "outputs": [],
   "source": [
    "def crs(x, y):\n",
    "    crs = 0\n",
    "    for i in range(len(x)):\n",
    "        for j in range(len(y)):\n",
    "            if x[i][0] < y[j][0] < x[i][1] < y[j][1]:\n",
    "                crs = crs+1    \n",
    "    return crs"
   ]
  },
  {
   "cell_type": "code",
   "execution_count": 3,
   "metadata": {},
   "outputs": [],
   "source": [
    "def nesting(x, y):\n",
    "    if y[0] < x[0] < x[1] < y[1]:\n",
    "        return True"
   ]
  },
  {
   "cell_type": "code",
   "execution_count": 4,
   "metadata": {},
   "outputs": [],
   "source": [
    "def res_coeff(x, y):\n",
    "    return (q-1)^(Set(x).difference(Set(y)).cardinality())*q^(crs(Set(x).intersection(Set(y)),Set(x).difference(Set(y))))/q^(crs(Set(y).intersection(Set(x)),Set(y).difference(Set(x))))"
   ]
  },
  {
   "cell_type": "code",
   "execution_count": 5,
   "metadata": {},
   "outputs": [],
   "source": [
    "def ind_coeff(x, y):\n",
    "    return (q-1)^(Set(x).difference(Set(y)).cardinality())*q^(crs(Set(x).difference(Set(y)),Set(x).intersection(Set(y))))/q^(crs(Set(y).difference(Set(x)),Set(y).intersection(Set(x))))"
   ]
  },
  {
   "cell_type": "code",
   "execution_count": 6,
   "metadata": {},
   "outputs": [],
   "source": [
    "def getKey(item):\n",
    "    return item[1]"
   ]
  },
  {
   "cell_type": "code",
   "execution_count": 7,
   "metadata": {},
   "outputs": [],
   "source": [
    "def Res(n,self):\n",
    "# self = supercharacter given by [[partition], coeff]\n",
    "    arcsort = sorted(self[0], key=getKey)\n",
    "    if arcsort == []:\n",
    "        return [self]\n",
    "    if arcsort[-1][1] != n:\n",
    "        return [self]\n",
    "    elif arcsort[-1][1] == n:\n",
    "        spiral = arcsort.pop(-1)\n",
    "        l = []\n",
    "        l.append(spiral)\n",
    "        for _ in self[0]:\n",
    "            if _[0] < spiral[0]:\n",
    "                l.append(_)\n",
    "        P = Poset((self[0], nesting), cover_relations=False)\n",
    "        C = list(P.chains(exclude=[_ for _ in l]))\n",
    "        S = [_+[spiral] for _ in C]\n",
    "        res = []\n",
    "        re = [max(_) for _ in self[0]]\n",
    "        for i in range(len(S)):\n",
    "            arcs = self[0][:]\n",
    "            for j in range(len(S[i])):\n",
    "                arcs.remove(S[i][j])\n",
    "            for j in range(len(S[i])-1):\n",
    "                arcs.append((S[i][j+1][0], S[i][j][1]))\n",
    "            res.append(arcs)\n",
    "            for k in range(S[i][0][1]-S[i][0][0]-1):\n",
    "                if S[i][0][1]-k-1 not in re:\n",
    "                    res.append(arcs+[(S[i][0][0],S[i][0][1]-k-1)])         \n",
    "        return [[res[i], res_coeff(self[0], res[i])*self[1]] for i in range(len(res))]"
   ]
  },
  {
   "cell_type": "code",
   "execution_count": 8,
   "metadata": {},
   "outputs": [],
   "source": [
    "def Ind(n, self):\n",
    "# self = supercharacter given by [[partition], coeff]\n",
    "    P = Poset((self[0], nesting), cover_relations=False)\n",
    "    C = list(P.chains())\n",
    "    ind = [self[0]]\n",
    "    le = [min(_) for _ in self[0]]\n",
    "    for j in range(1,n):    \n",
    "        if j not in le:\n",
    "            ind.append(self[0]+[(j,n)])\n",
    "    for j in range(1,len(C)):\n",
    "        arcs = self[0][:]\n",
    "        for k in range(len(C[j])):\n",
    "            arcs.remove(C[j][k])\n",
    "        for k in range(len(C[j])-1):\n",
    "            arcs.append((C[j][k][0], C[j][k+1][1]))\n",
    "        arcs.append((C[j][len(C[j])-1][0],n))\n",
    "        ind.append(arcs)\n",
    "        for k in range(C[j][0][1]-C[j][0][0]-1):\n",
    "            if C[j][0][0]+k+1 not in le:\n",
    "                ind.append(arcs+[(C[j][0][0]+k+1,C[j][0][1])])       \n",
    "    return [[ind[i],ind_coeff(self[0], ind[i])*self[1]] for i in range(len(ind))]"
   ]
  },
  {
   "cell_type": "code",
   "execution_count": 9,
   "metadata": {},
   "outputs": [],
   "source": [
    "def ResSum(n, self):\n",
    "    l = map(Res, [n]*len(self), self)\n",
    "    d = [[tuple(sorted(item[0], key=getKey)), item[1]] for sublist in l for item in sublist]\n",
    "    simplify = {}\n",
    "    for k, v in d:\n",
    "        simplify[k] = simplify.get(k, 0) + v\n",
    "    return [[list(item[0]), item[1]] for item in list(simplify.items())]"
   ]
  },
  {
   "cell_type": "code",
   "execution_count": 10,
   "metadata": {},
   "outputs": [],
   "source": [
    "def IndSum(n, self):\n",
    "    l = map(Ind, [n]*len(self), self)\n",
    "    d = [[tuple(sorted(item[0], key=getKey)), item[1]] for sublist in l for item in sublist]\n",
    "    simplify = {}\n",
    "    for k, v in d:\n",
    "        simplify[k] = simplify.get(k, 0) + v\n",
    "    return [[list(item[0]), item[1]] for item in list(simplify.items())]"
   ]
  },
  {
   "cell_type": "code",
   "execution_count": 11,
   "metadata": {},
   "outputs": [],
   "source": [
    "def IndRes(n,k):\n",
    "    def funk(y):\n",
    "        return reduce(lambda x, _: IndSum(n,ResSum(n,x)), xrange(k), y)\n",
    "    return funk"
   ]
  },
  {
   "cell_type": "code",
   "execution_count": 12,
   "metadata": {},
   "outputs": [
    {
     "data": {
      "text/plain": [
       "[[[(2, 3), (3, 4)], 2*q^3 - q^2 - 2*q + 1],\n",
       " [[(1, 2)], 2*q^3 - q^2 - 2*q + 1],\n",
       " [[(2, 3)], 2*q^3 - q^2 - 2*q + 1],\n",
       " [[(1, 2), (2, 3)], q^3 - q^2 - q + 1],\n",
       " [[(2, 4)], 2*q^4 - q^2],\n",
       " [[(3, 4)], 3*q^3 - 3*q + 1],\n",
       " [[(1, 3)], q^4 - q^2],\n",
       " [[(1, 4)], q^5 + q^4 - q^3],\n",
       " [[(1, 2), (2, 3), (3, 4)], q^3 - q^2 - q + 1],\n",
       " [[(1, 3), (3, 4)], q^4 - q^2],\n",
       " [[(1, 3), (2, 4)], q^4 - q^2],\n",
       " [[], 3*q^3 - 3*q + 1],\n",
       " [[(1, 2), (2, 4)], q^4 - q^2],\n",
       " [[(2, 3), (1, 4)], q^5 - q^3],\n",
       " [[(1, 2), (3, 4)], 2*q^3 - q^2 - 2*q + 1]]"
      ]
     },
     "execution_count": 12,
     "metadata": {},
     "output_type": "execute_result"
    }
   ],
   "source": [
    "IndRes(4,3)([[[],1]])"
   ]
  },
  {
   "cell_type": "code",
   "execution_count": null,
   "metadata": {},
   "outputs": [],
   "source": []
  }
 ],
 "metadata": {
  "kernelspec": {
   "display_name": "SageMath 8.4",
   "language": "",
   "name": "sagemath"
  },
  "language": "python",
  "language_info": {
   "codemirror_mode": {
    "name": "ipython",
    "version": 2
   },
   "file_extension": ".py",
   "mimetype": "text/x-python",
   "name": "python",
   "nbconvert_exporter": "python",
   "pygments_lexer": "ipython2",
   "version": "2.7.15"
  }
 },
 "nbformat": 4,
 "nbformat_minor": 2
}
